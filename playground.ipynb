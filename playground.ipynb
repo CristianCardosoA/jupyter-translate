{
  "nbformat": 4,
  "nbformat_minor": 0,
  "metadata": {
    "jekyll": {
      "keywords": "fastai",
      "toc": "false"
    },
    "kernelspec": {
      "name": "python3",
      "display_name": "Python 3"
    },
    "colab": {
      "name": "index.ipynb",
      "provenance": [],
      "include_colab_link": true
    },
    "accelerator": "GPU"
  },
  "cells": [
    {
      "cell_type": "markdown",
      "metadata": {
        "id": "view-in-github",
        "colab_type": "text"
      },
      "source": [
        "<a href=\"https://colab.research.google.com/github/WittmannF/jupyter-translate/blob/master/playground.ipynb\" target=\"_parent\"><img src=\"https://colab.research.google.com/assets/colab-badge.svg\" alt=\"Open In Colab\"/></a>"
      ]
    },
    {
      "cell_type": "markdown",
      "metadata": {
        "id": "rd1eAyV0F3Co",
        "colab_type": "text"
      },
      "source": [
        "# Bem vindo à fastai"
      ]
    },
    {
      "cell_type": "code",
      "metadata": {
        "hide_input": true,
        "id": "q0GvVbwvF3Cr",
        "colab_type": "code",
        "colab": {}
      },
      "source": [
        "from fastai.vision import *\n",
        "from fastai.gen_doc.nbdoc import *\n",
        "from fastai.core import *\n",
        "from fastai.basic_train import *"
      ],
      "execution_count": 0,
      "outputs": []
    },
    {
      "cell_type": "code",
      "metadata": {
        "id": "poXA7qRRLALS",
        "colab_type": "code",
        "colab": {
          "base_uri": "https://localhost:8080/",
          "height": 119
        },
        "outputId": "593090ce-2c20-4954-90a6-0279c97008e1"
      },
      "source": [
        "!pip install googletrans\n"
      ],
      "execution_count": 52,
      "outputs": [
        {
          "output_type": "stream",
          "text": [
            "Requirement already satisfied: googletrans in /usr/local/lib/python3.6/dist-packages (2.4.0)\n",
            "Requirement already satisfied: requests in /usr/local/lib/python3.6/dist-packages (from googletrans) (2.21.0)\n",
            "Requirement already satisfied: idna<2.9,>=2.5 in /usr/local/lib/python3.6/dist-packages (from requests->googletrans) (2.8)\n",
            "Requirement already satisfied: chardet<3.1.0,>=3.0.2 in /usr/local/lib/python3.6/dist-packages (from requests->googletrans) (3.0.4)\n",
            "Requirement already satisfied: certifi>=2017.4.17 in /usr/local/lib/python3.6/dist-packages (from requests->googletrans) (2019.9.11)\n",
            "Requirement already satisfied: urllib3<1.25,>=1.21.1 in /usr/local/lib/python3.6/dist-packages (from requests->googletrans) (1.24.3)\n"
          ],
          "name": "stdout"
        }
      ]
    },
    {
      "cell_type": "code",
      "metadata": {
        "id": "IG_SvJHWvAA4",
        "colab_type": "code",
        "colab": {}
      },
      "source": [
        "from googletrans import Translator\n",
        "translator = Translator()\n",
        "\n",
        "def translate(text, dest_language='pt'):\n",
        "    if len(text)>=2:\n",
        "        if text[-2:]=='\\n':\n",
        "            return translator.translate(text, dest=dest_language).text+'\\n'\n",
        "    return translator.translate(text, dest=dest_language).text"
      ],
      "execution_count": 0,
      "outputs": []
    },
    {
      "cell_type": "markdown",
      "metadata": {
        "id": "959X1My2F3Cy",
        "colab_type": "text"
      },
      "source": [
        "A biblioteca fastai simplifica o treinamento de redes neurais de forma rapida e precisa utilizando melhores práticas modernas. É baseada em pesquisas sobre aprendizagem profunda (deep learning) empreendidas pela [fast.ai](http://www.fast.ai), incluindo suporte \"fora da caixa\" para modelos de [visão](/vision.html#vision), [texto](/text.html#text), [tabular](/tabular.html#tabular) e [collab](/collab.html#collab) (filtragem colaborativa). Se você estiver procurando pelo código fonte, acesse o [repositório da fastai](https://github.com/fastai/fastai) no GitHub. Para breves exemplos, veja a pasta [exemplos](https://github.com/fastai/fastai/tree/master/examples); exemplos detalhados são fornecidos na documentação completa (veja a barra lateral). Por exemplo, aqui está como treinar um modelo MNIST usando [resnet18](https://arxiv.org/abs/1512.03385) (retirado da [documentação de visão](https://github.com/fastai/fastai/blob/master/examples/vision.ipynb)):"
      ]
    },
    {
      "cell_type": "code",
      "metadata": {
        "id": "yCXHSGGtF3Cz",
        "colab_type": "code",
        "colab": {
          "base_uri": "https://localhost:8080/",
          "height": 80
        },
        "outputId": "8da35e69-f906-4779-c6aa-087f25cfe434"
      },
      "source": [
        "path = untar_data(URLs.MNIST_SAMPLE)\n",
        "data = ImageDataBunch.from_folder(path)\n",
        "learn = cnn_learner(data, models.resnet18, metrics=accuracy)\n",
        "learn.fit(1)"
      ],
      "execution_count": 3,
      "outputs": [
        {
          "output_type": "display_data",
          "data": {
            "text/html": [
              "<table border=\"1\" class=\"dataframe\">\n",
              "  <thead>\n",
              "    <tr style=\"text-align: left;\">\n",
              "      <th>epoch</th>\n",
              "      <th>train_loss</th>\n",
              "      <th>valid_loss</th>\n",
              "      <th>accuracy</th>\n",
              "      <th>time</th>\n",
              "    </tr>\n",
              "  </thead>\n",
              "  <tbody>\n",
              "    <tr>\n",
              "      <td>0</td>\n",
              "      <td>0.186654</td>\n",
              "      <td>0.116837</td>\n",
              "      <td>0.961727</td>\n",
              "      <td>00:11</td>\n",
              "    </tr>\n",
              "  </tbody>\n",
              "</table>"
            ],
            "text/plain": [
              "<IPython.core.display.HTML object>"
            ]
          },
          "metadata": {
            "tags": []
          }
        }
      ]
    },
    {
      "cell_type": "code",
      "metadata": {
        "hide_input": true,
        "id": "bo829NeAF3C4",
        "colab_type": "code",
        "colab": {
          "base_uri": "https://localhost:8080/",
          "height": 34
        },
        "outputId": "104a0c9e-22bb-41ba-d961-3c619f9132f0"
      },
      "source": [
        "jekyll_note(\"\"\"Esta documentação é toda construída a partir de cadernos (notebook) do jupyter;\n",
        "isto significa que você pode experimentar qualquer código em qualquer caderno por conta própria!\n",
        "Você pode encontrar os cadernos na pasta <a href=\"https://github.com/fastai/fastai/tree/master/docs_src\">docs_src</a> do repositório da \n",
        "<a href=\"https://github.com/fastai/fastai\">fastai</a>. Por exemplo,\n",
        "<a href=\"https://nbviewer.jupyter.org/github/fastai/fastai/blob/master/docs_src/index.ipynb\">aqui</a>\n",
        "esta o caderno fonte do que você está lendo agora.\"\"\")"
      ],
      "execution_count": 8,
      "outputs": [
        {
          "output_type": "display_data",
          "data": {
            "text/markdown": "<div markdown=\"span\" class=\"alert alert-info\" role=\"alert\"><i class=\"fa fa-info-circle\"></i> <b>Note: </b>Esta documentação é toda construída a partir de cadernos (notebook) do jupyter;\nisto significa que você pode experimentar qualquer código em qualquer caderno por conta própria!\nVocê pode encontrar os cadernos na pasta <a href=\"https://github.com/fastai/fastai/tree/master/docs_src\">docs_src</a> do repositório da \n<a href=\"https://github.com/fastai/fastai\">fastai</a>. Por exemplo,\n<a href=\"https://nbviewer.jupyter.org/github/fastai/fastai/blob/master/docs_src/index.ipynb\">aqui</a>\nesta o caderno fonte do que você está lendo agora.</div>",
            "text/plain": [
              "<IPython.core.display.Markdown object>"
            ]
          },
          "metadata": {
            "tags": []
          }
        }
      ]
    },
    {
      "cell_type": "markdown",
      "metadata": {
        "id": "4GqoYbhaF3C7",
        "colab_type": "text"
      },
      "source": [
        "## Instalação e atualização"
      ]
    },
    {
      "cell_type": "markdown",
      "metadata": {
        "id": "poiFUGjPF3DD",
        "colab_type": "text"
      },
      "source": [
        "Para instalar ou atualizar a biblioteca fastai, recomendamos o `conda`:\n",
        "\n",
        "```\n",
        "conda install -c pytorch -c fastai fastai \n",
        "```\n",
        "Para solução de problemas e instalações alternativas (incluindo pip e opções apenas de CPU) veja o [fastai readme](https://github.com/fastai/fastai/blob/master/README.md)."
      ]
    },
    {
      "cell_type": "markdown",
      "metadata": {
        "id": "l2YUYMHaF3DE",
        "colab_type": "text"
      },
      "source": [
        "## Lendo a documentação"
      ]
    },
    {
      "cell_type": "markdown",
      "metadata": {
        "id": "kh4uO9cHF3DF",
        "colab_type": "text"
      },
      "source": [
        "To get started quickly, click *Applications* on the sidebar, and then choose the application you're interested in. That will take you to a walk-through of training a model of that type. You can then either explore the various links from there, or dive more deeply into the various fastai modules.\n",
        "\n",
        "We've provided below a quick summary of the key modules in this library. For details on each one, use the sidebar to find the module you're interested in. Each module includes an overview and example of how to use it, along with documentation for every class, function, and method. API documentation looks, for example, like this:\n",
        "\n",
        "Para começar rapidamente, clique *Aplicações* na barra lateral, e em seguida, escolha a aplicação que você tenha interesse. Isso o levará para um passo-a-passo do treinamento de um modelo desta aplicação. Você pode então ou explorar os várias links a partir de lá, ou ainda mergulhar mais profundamente nos vários módulos da fastai.\n",
        "\n",
        "Nós fornecemos abaixo um breve resumo dos principais módulos nesta biblioteca. Para detalhes sobre cada uma, use a barra lateral para encontrar o módulo que você tenha interesse. Cada módulo inclui uma visão geral e exemplo de como usá-lo, juntamente com a documentação para cada classe, função e método. Por exemplo, a documentação da API tem uma aparência semelhante à seguinte:\n",
        "\n",
        "### Uma função exemplo"
      ]
    },
    {
      "cell_type": "code",
      "metadata": {
        "hide_input": true,
        "id": "ZKDEQUoaF3DG",
        "colab_type": "code",
        "colab": {
          "base_uri": "https://localhost:8080/",
          "height": 34
        },
        "outputId": "9278f81c-9e84-4c1e-929a-e40576425e02"
      },
      "source": [
        "show_doc(rotate, full_name='rotate')"
      ],
      "execution_count": 16,
      "outputs": [
        {
          "output_type": "display_data",
          "data": {
            "text/markdown": "<h4 id=\"_rotate\" class=\"doc_header\"><code>rotate</code><a href=\"https://github.com/fastai/fastai/blob/master/fastai/vision/transform.py#L25\" class=\"source_link\" style=\"float:right\">[source]</a><a class=\"source_link\" data-toggle=\"collapse\" data-target=\"#_rotate-pytest\" style=\"float:right; padding-right:10px\">[test]</a></h4>\n\n> <code>rotate</code>(**`degrees`**:[`uniform`](/torch_core.html#uniform)) → [`Image`](/vision.image.html#Image) :: [`TfmAffine`](/vision.image.html#TfmAffine)\n\n<div class=\"collapse\" id=\"_rotate-pytest\"><div class=\"card card-body pytest_card\"><a type=\"button\" data-toggle=\"collapse\" data-target=\"#_rotate-pytest\" class=\"close\" aria-label=\"Close\"><span aria-hidden=\"true\">&times;</span></a><p>Tests found for <code>rotate</code>:</p><ul><li><code>pytest -sv tests/test_vision_transform.py::test_deterministic_transforms</code> <a href=\"https://github.com/fastai/fastai/blob/master/tests/test_vision_transform.py#L111\" class=\"source_link\" style=\"float:right\">[source]</a></li></ul><p>To run tests please refer to this <a href=\"/dev/test.html#quick-guide\">guide</a>.</p></div></div>\n\nRotate image by `degrees`.  ",
            "text/plain": [
              "<IPython.core.display.Markdown object>"
            ]
          },
          "metadata": {
            "tags": []
          }
        }
      ]
    },
    {
      "cell_type": "markdown",
      "metadata": {
        "id": "ywgfw5IxF3DJ",
        "colab_type": "text"
      },
      "source": [
        "---\n",
        "\n",
        "Types for each parameter, and the return type, are displayed following standard Python [type hint syntax](https://www.python.org/dev/peps/pep-0484/). Sometimes for compound types we use [type variables](/fastai_typing.html). Types that are defined by fastai or Pytorch link directly to more information about that type; try clicking *Image* in the function above for an example. The docstring for the symbol is shown immediately after the signature, along with a link to the source code for the symbol in GitHub. After the basic signature and docstring you'll find examples and additional details (not shown in this example). As you'll see at the top of the page, all symbols documented like this also appear in the table of contents.\n",
        "\n",
        "For inherited classes and some types of decorated function, the base class or decorator type will also be shown at the end of the signature, delimited by `::`. For `vision.transforms`, the random number generator used for data augmentation is shown instead of the type, for randomly generated parameters."
      ]
    },
    {
      "cell_type": "markdown",
      "metadata": {
        "id": "Or4hZrKLVdk1",
        "colab_type": "text"
      },
      "source": [
        "\n",
        "## Estrutura dos módulos\n",
        "### Importações\n",
        "fastai é projetado para suportar tanto computação interativa, quanto desenvolvimento tradicional em software. Para computação interativa, onde a conveniência e velocidade de experimentação são prioridades, os cientistas de dados muitas vezes preferem pegar todos os símbolos que eles precisam, com `import *`. Portanto, fastai foi concebido para apoiar esta abordagem, sem comprometer a capacidade de manutenção e compreensão.\n"
      ]
    },
    {
      "cell_type": "markdown",
      "metadata": {
        "id": "gOWCCR4BF3DJ",
        "colab_type": "text"
      },
      "source": [
        "## Module structure"
      ]
    },
    {
      "cell_type": "markdown",
      "metadata": {
        "id": "PODaw3euF3DL",
        "colab_type": "text"
      },
      "source": [
        "### Imports"
      ]
    },
    {
      "cell_type": "markdown",
      "metadata": {
        "id": "toTk8r5_F3DM",
        "colab_type": "text"
      },
      "source": [
        "fastai is designed to support both interactive computing as well as traditional software development. For interactive computing, where convenience and speed of experimentation is a priority, data scientists often prefer to grab all the symbols they need, with `import *`. Therefore, fastai is designed to support this approach, without compromising on maintainability and understanding.\n",
        "\n",
        "In order to do so, the module dependencies are carefully managed (see next section), with each exporting a carefully chosen set of symbols when using `import *` . In general, for interactive computing, to just play around the core modules and the training loop you can do\n",
        "\n",
        "```\n",
        "from fastai.basics import *\n",
        "```\n",
        "\n",
        "If you want experiment with one of the *applications* such as vision, then you can do\n",
        "\n",
        "```\n",
        "from fastai.vision import *\n",
        "```"
      ]
    },
    {
      "cell_type": "markdown",
      "metadata": {
        "id": "2GSWp0PlWanq",
        "colab_type": "text"
      },
      "source": [
        "\n",
        "Isso lhe dará todos os módulos padrão externos que você precisa, em seus namespaces habituais (por exemplo `pandas como pd`,` numpy como np`, `matplotlib.pyplot como plt`), além do núcleo bibliotecas fastai. Além disso, as principais classes e funções para a sua aplicação ([ `fastai.vision`] (/ vision.html # visão), neste caso), por exemplo, a criação de um [ `DataBunch`] (/ basic_data.html # DataBunch) a partir de uma pasta de imagens e treinamento de uma rede neural convolutional (com [` cnn_learner`] (/ vision.learner.html # cnn_learner)), também são importados. Se você não deseja importar qualquer aplicação, mas quero que todos a principal funcionalidade do fastai, use `de fastai.basics importar *`. Claro, você também pode simplesmente importar os símbolos específicos que você precisa, sem o uso de `import *`.\n"
      ]
    },
    {
      "cell_type": "markdown",
      "metadata": {
        "id": "cW48x-JtF3DO",
        "colab_type": "text"
      },
      "source": [
        "That will give you all the standard external modules you'll need, in their customary namespaces (e.g. `pandas as pd`, `numpy as np`, `matplotlib.pyplot as plt`), plus the core fastai libraries. In addition, the main classes and functions for your application ([`fastai.vision`](/vision.html#vision), in this case), e.g. creating a [`DataBunch`](/basic_data.html#DataBunch) from an image folder and training a convolutional neural network (with [`cnn_learner`](/vision.learner.html#cnn_learner)), are also imported. If you don't wish to import any application, but want all the main functionality from fastai, use `from fastai.basics import *`. Of course, you can also just import the specific symbols that you require, without using `import *`.\n",
        "\n",
        "If you wish to see where a symbol is imported from, either just type the symbol name (in a REPL such as Jupyter Notebook or IPython), or (in most editors) wave your mouse over the symbol to see the definition. For instance:"
      ]
    },
    {
      "cell_type": "code",
      "metadata": {
        "id": "08erRSqTF3DQ",
        "colab_type": "code",
        "colab": {},
        "outputId": "ba742451-e528-427c-c026-0a79f68fc304"
      },
      "source": [
        "Learner"
      ],
      "execution_count": 0,
      "outputs": [
        {
          "output_type": "execute_result",
          "data": {
            "text/plain": [
              "fastai.basic_train.Learner"
            ]
          },
          "metadata": {
            "tags": []
          },
          "execution_count": 0
        }
      ]
    },
    {
      "cell_type": "markdown",
      "metadata": {
        "id": "nSOUlk3VWoGc",
        "colab_type": "text"
      },
      "source": [
        "\n",
        "### Dependências\n",
        "Na base de tudo são os dois módulos [ `core`] (/ core.html # núcleo) e [` torch_core`] (/ torch_core.html # torch_core) (não estamos incluindo o `prefixo fastai.` quando nomeando módulos nestes documentos). Eles definem as funções básicas que usamos na biblioteca; [ `Core`] (/ # núcleo core.html) só se baseia em módulos gerais, ao passo que [` torch_core`] (/ torch_core.html # torch_core) requer pytorch. A maioria dos atalhos-insinuando tipo são definidas lá também (pelo menos aquele que não dependem de aulas fastai definidos mais tarde). Quase todos os módulos abaixo importação [ `torch_core`] (/ torch_core.html # torch_core).\n",
        "\n",
        "![](https://github.com/WittmannF/fastai/blob/master/docs_src/imgs/dependencies.svg?raw=1)"
      ]
    },
    {
      "cell_type": "markdown",
      "metadata": {
        "id": "BY3-Pt40F3DU",
        "colab_type": "text"
      },
      "source": [
        "### Dependencies"
      ]
    },
    {
      "cell_type": "markdown",
      "metadata": {
        "id": "4F_X5mWmF3DV",
        "colab_type": "text"
      },
      "source": [
        "At the base of everything are the two modules [`core`](/core.html#core) and [`torch_core`](/torch_core.html#torch_core) (we're not including the `fastai.` prefix when naming modules in these docs). They define the basic functions we use in the library; [`core`](/core.html#core) only relies on general modules, whereas [`torch_core`](/torch_core.html#torch_core) requires pytorch. Most type-hinting shortcuts are defined there too (at least the one that don't depend on fastai classes defined later). Nearly all modules below import [`torch_core`](/torch_core.html#torch_core).\n",
        "\n",
        "Then, there are three modules directly on top of [`torch_core`](/torch_core.html#torch_core): \n",
        "- [`basic_data`](/basic_data.html#basic_data), which contains the class that will take a [`Dataset`](https://pytorch.org/docs/stable/data.html#torch.utils.data.Dataset) or pytorch [`DataLoader`](https://pytorch.org/docs/stable/data.html#torch.utils.data.DataLoader) to wrap it in a [`DeviceDataLoader`](/basic_data.html#DeviceDataLoader) (a class that sits on top of a [`DataLoader`](https://pytorch.org/docs/stable/data.html#torch.utils.data.DataLoader) and is in charge of putting the data on the right device as well as applying transforms such as normalization) and regroup then in a [`DataBunch`](/basic_data.html#DataBunch).\n",
        "- [`layers`](/layers.html#layers), which contains basic functions to define custom layers or groups of layers\n",
        "- [`metrics`](/metrics.html#metrics), which contains all the metrics\n",
        "\n",
        "This takes care of the basics, then we regroup a model with some data in a [`Learner`](/basic_train.html#Learner) object to take care of training. More specifically:\n",
        "- [`callback`](/callback.html#callback) (depends on [`basic_data`](/basic_data.html#basic_data)) defines the basis of callbacks and the [`CallbackHandler`](/callback.html#CallbackHandler). Those are functions that will be called every step of the way of the training loop and can allow us to customize what is happening there;\n",
        "- [`basic_train`](/basic_train.html#basic_train) (depends on [`callback`](/callback.html#callback)) defines [`Learner`](/basic_train.html#Learner) and [`Recorder`](/basic_train.html#Recorder) (which is a callback that records training stats) and has the training loop;\n",
        "- [`callbacks`](/callbacks.html#callbacks) (depends on [`basic_train`](/basic_train.html#basic_train)) is a submodule defining various callbacks, such as for mixed precision training or 1cycle annealing;\n",
        "- [`train`](/train.html#train) (depends on [`callbacks`](/callbacks.html#callbacks)) defines helper functions to invoke the callbacks more easily.\n",
        "\n",
        "From [`basic_data`](/basic_data.html#basic_data) we can split on one of the four main *applications*, which each has their own module: [`vision`](/vision.html#vision), [`text`](/text.html#text) [`collab`](/collab.html#collab), or [`tabular`](/tabular.html#tabular). Each of those submodules is built in the same way with:\n",
        "- a submodule named <code>transform</code> that handles the transformations of our data (data augmentation for computer vision, numericalizing and tokenizing for text and preprocessing for tabular)\n",
        "- a submodule named <code>data</code> that contains the class that will create datasets specific to this application and the helper functions to create [`DataBunch`](/basic_data.html#DataBunch) objects.\n",
        "- a submodule named <code>models</code> that contains the models specific to this application.\n",
        "- optionally, a submodule named <code>{application}.learner</code> that will contain [`Learner`](/basic_train.html#Learner) specific to the application.\n",
        "\n",
        "Here is a graph of the key module dependencies:"
      ]
    },
    {
      "cell_type": "markdown",
      "metadata": {
        "id": "kmRQtVQiF3DW",
        "colab_type": "text"
      },
      "source": [
        "![Modules overview](https://github.com/WittmannF/fastai/blob/master/docs_src/imgs/dependencies.svg?raw=1)"
      ]
    },
    {
      "cell_type": "code",
      "metadata": {
        "id": "hxkwWDtUQlpo",
        "colab_type": "code",
        "colab": {
          "base_uri": "https://localhost:8080/",
          "height": 204
        },
        "outputId": "033aeb8a-9b2d-4dfa-af02-9696600589d7"
      },
      "source": [
        "!wget https://raw.githubusercontent.com/WittmannF/fastai/master/docs_src/index.ipynb"
      ],
      "execution_count": 101,
      "outputs": [
        {
          "output_type": "stream",
          "text": [
            "--2019-10-03 17:50:54--  https://raw.githubusercontent.com/WittmannF/fastai/master/docs_src/index.ipynb\n",
            "Resolving raw.githubusercontent.com (raw.githubusercontent.com)... 151.101.0.133, 151.101.64.133, 151.101.128.133, ...\n",
            "Connecting to raw.githubusercontent.com (raw.githubusercontent.com)|151.101.0.133|:443... connected.\n",
            "HTTP request sent, awaiting response... 200 OK\n",
            "Length: 15050 (15K) [text/plain]\n",
            "Saving to: ‘index.ipynb.1’\n",
            "\n",
            "\rindex.ipynb.1         0%[                    ]       0  --.-KB/s               \rindex.ipynb.1       100%[===================>]  14.70K  --.-KB/s    in 0.008s  \n",
            "\n",
            "2019-10-03 17:50:55 (1.79 MB/s) - ‘index.ipynb.1’ saved [15050/15050]\n",
            "\n"
          ],
          "name": "stdout"
        }
      ]
    },
    {
      "cell_type": "code",
      "metadata": {
        "id": "-LgK9yLJRRCp",
        "colab_type": "code",
        "colab": {}
      },
      "source": [
        "import json"
      ],
      "execution_count": 0,
      "outputs": []
    },
    {
      "cell_type": "code",
      "metadata": {
        "id": "AnaC1SNYRTcu",
        "colab_type": "code",
        "colab": {}
      },
      "source": [
        "data = json.load(open('index.ipynb', 'r'))\n",
        "data_translated = json.load(open('index.ipynb', 'r'))"
      ],
      "execution_count": 0,
      "outputs": []
    },
    {
      "cell_type": "code",
      "metadata": {
        "id": "kBxBq1aoTZhc",
        "colab_type": "code",
        "colab": {}
      },
      "source": [
        "def is_markdown(cell):\n",
        "    if cell['cell_type'] != 'markdown': return False\n",
        "    src = cell['source']\n",
        "    return src"
      ],
      "execution_count": 0,
      "outputs": []
    },
    {
      "cell_type": "code",
      "metadata": {
        "id": "KuooVFygTA9j",
        "colab_type": "code",
        "colab": {}
      },
      "source": [
        "markdown_cells = [is_markdown(c) for c in data['cells'] if is_markdown(c)]"
      ],
      "execution_count": 0,
      "outputs": []
    },
    {
      "cell_type": "code",
      "metadata": {
        "id": "QmUgcelkSvKV",
        "colab_type": "code",
        "colab": {}
      },
      "source": [
        "import json,fire,re\n",
        "from pathlib import Path\n",
        "\n",
        "def is_export(cell):\n",
        "    if cell['cell_type'] != 'code': return False\n",
        "    src = cell['source']\n",
        "    if len(src) == 0 or len(src[0]) < 7: return False\n",
        "    #import pdb; pdb.set_trace()\n",
        "    return re.match(r'^\\s*#\\s*export\\s*$', src[0], re.IGNORECASE) is not None\n",
        "\n",
        "def notebook2script(fname):\n",
        "    fname = Path(fname)\n",
        "    fname_out = f'nb_{fname.stem.split(\"_\")[0]}.py'\n",
        "    main_dic = json.load(open(fname,'r'))\n",
        "    code_cells = [c for c in main_dic['cells'] if is_export(c)]\n",
        "    module = f'''\n",
        "#################################################\n",
        "### THIS FILE WAS AUTOGENERATED! DO NOT EDIT! ###\n",
        "#################################################\n",
        "# file to edit: dev_nb/{fname.name}\n",
        "\n",
        "'''\n",
        "    for cell in code_cells: module += ''.join(cell['source'][1:]) + '\\n\\n'\n",
        "    # remove trailing spaces\n",
        "    module = re.sub(r' +$', '', module, flags=re.MULTILINE)\n",
        "    open(fname.parent/'exp'/fname_out,'w').write(module[:-2])\n",
        "    print(f\"Converted {fname} to {fname_out}\")\n",
        "\n",
        "if __name__ == '__main__': fire.Fire(notebook2script)"
      ],
      "execution_count": 0,
      "outputs": []
    },
    {
      "cell_type": "code",
      "metadata": {
        "id": "DWhKF76hZ5d0",
        "colab_type": "code",
        "colab": {}
      },
      "source": [
        "data_translated = data"
      ],
      "execution_count": 0,
      "outputs": []
    },
    {
      "cell_type": "code",
      "metadata": {
        "id": "0R6hg3DPZ6Qo",
        "colab_type": "code",
        "colab": {}
      },
      "source": [
        "data_translated['cells'][0]['source'][0] = '# Bem vindo à fastai'"
      ],
      "execution_count": 0,
      "outputs": []
    },
    {
      "cell_type": "code",
      "metadata": {
        "id": "essS9SOjafT2",
        "colab_type": "code",
        "colab": {
          "base_uri": "https://localhost:8080/",
          "height": 1000
        },
        "outputId": "89d27c26-5680-413c-eb53-d1ca9f5341c2"
      },
      "source": [
        "for i in range(len(data_translated['cells'])):\n",
        "    for j in range(len(data_translated['cells'][i]['source'])):\n",
        "        if data_translated['cells'][i]['cell_type']=='markdown':\n",
        "            data_translated['cells'][i]['source'][j] = translate(data_translated['cells'][i]['source'][j])\n",
        "        print(data_translated['cells'][i]['source'][j])"
      ],
      "execution_count": 111,
      "outputs": [
        {
          "output_type": "stream",
          "text": [
            "Bem-vindo ao # fastai\n",
            "from fastai.vision import *\n",
            "\n",
            "from fastai.gen_doc.nbdoc import *\n",
            "\n",
            "from fastai.core import *\n",
            "\n",
            "from fastai.basic_train import *\n",
            "A biblioteca fastai simplifica o treinamento de redes neurais rápidos e precisos utilizando as melhores práticas modernas. É baseado em pesquisa para profundas melhores práticas de aprendizagem empreendidas a [fast.ai] (http://www.fast.ai), incluindo \"fora da caixa\" suporte para [ `vision`] (/ vision.html # visão ), [ `text`] (/ # text.html texto), [` tabular`] (/ tabular.html # tabular), e [ `collab`] (collab.html # modelos colab /) (filtragem colaborativa). Se você está procurando o código fonte, de cabeça para o [repo fastai] (https://github.com/fastai/fastai) no GitHub. Por breves exemplos, ver a pasta [Exemplos] (https://github.com/fastai/fastai/tree/master/examples); exemplos detalhados são fornecidos na documentação completa (veja o quadro). Por exemplo, aqui está como treinar um modelo MNIST usando [resnet18] (https://arxiv.org/abs/1512.03385) (a partir do [exemplo de visão] (https://github.com/fastai/fastai/blob/master /examples/vision.ipynb)):\n",
            "path = untar_data(URLs.MNIST_SAMPLE)\n",
            "\n",
            "data = ImageDataBunch.from_folder(path)\n",
            "\n",
            "learn = cnn_learner(data, models.resnet18, metrics=accuracy)\n",
            "\n",
            "learn.fit(1)\n",
            "jekyll_note(\"\"\"This documentation is all built from notebooks;\n",
            "\n",
            "that means that you can try any of the code you see in any notebook yourself!\n",
            "\n",
            "You'll find the notebooks in the <a href=\"https://github.com/fastai/fastai/tree/master/docs_src\">docs_src</a> folder of the\n",
            "\n",
            "<a href=\"https://github.com/fastai/fastai\">fastai</a> repo. For instance,\n",
            "\n",
            "<a href=\"https://nbviewer.jupyter.org/github/fastai/fastai/blob/master/docs_src/index.ipynb\">here</a>\n",
            "\n",
            "is the notebook source of what you're reading now.\"\"\")\n",
            "## Instalação e atualização\n",
            "Para instalar ou atualizar fastai, recomendamos `conda`:\n",
            "\n",
            "```\n",
            "Conda instalar -c -c pytorch fastai fastai\n",
            "```\n",
            "Para solução de problemas e instalações alternativas (incluindo pip e opções apenas de CPU) veja o [fastai readme] (https://github.com/fastai/fastai/blob/master/README.md).\n",
            "## Lendo os docs\n",
            "Para começar rapidamente, clique * Aplicações * na barra lateral, e em seguida, escolha o aplicativo que você está interessado. Isso vai levá-lo para um passeio através de treinamento de um modelo desse tipo. Você pode então explorar as várias ligações a partir de lá, ou mergulhar mais profundamente os vários módulos fastai.\n",
            "\n",
            "Nós fornecemos abaixo um breve resumo dos principais módulos nesta biblioteca. Para detalhes sobre cada uma, use a barra lateral para encontrar o módulo que você está interessado. Cada módulo inclui uma visão geral e exemplo de como usá-lo, juntamente com a documentação para cada classe, função e método. documentação da API parece, por exemplo, como este:\n",
            "\n",
            "### Um exemplo de função\n",
            "show_doc(rotate, full_name='rotate')\n",
            "---\n",
            "\n",
            "Tipos para cada parâmetro, e o tipo de retorno, são exibidos seguinte Python padrão [tipo de sintaxe dica] (https://www.python.org/dev/peps/pep-0484/). Às vezes, para os tipos de compostos que usamos [variáveis ​​do tipo] (/ fastai_typing.html). Tipos que são definidos por fastai ou link Pytorch diretamente para obter mais informações sobre esse tipo; experimente clicar * Imagem * na função acima para um exemplo. O docstring para o símbolo é mostrado imediatamente após a assinatura, juntamente com um link para o código-fonte para o símbolo no GitHub. Após a assinatura básica e DocString você encontrará exemplos e detalhes adicionais (não mostrados neste exemplo). Como você verá no topo da página, todos os símbolos documentados como esta também aparecem na tabela de conteúdos.\n",
            "\n",
            "Por classes herdadas e alguns tipos de função decorado, a classe ou tipo de base decorador também será mostrado no fim da assinatura, delimitado por `` ::. Para `vision.transforms`, o gerador de números aleatórios utilizados para o aumento de dados é mostrado em vez do tipo, para os parâmetros gerados aleatoriamente.\n",
            "## estrutura Módulo\n",
            "### Importações\n",
            "fastai é projetado para suportar tanto computação interativa, bem como o desenvolvimento de software tradicional. Para computação interativa, onde a conveniência e velocidade de experimentação é uma prioridade, os cientistas de dados muitas vezes preferem pegar todos os símbolos que eles precisam, com `import *`. Portanto, fastai foi concebido para apoiar esta abordagem, sem comprometer a capacidade de manutenção e compreensão.\n",
            "\n",
            "A fim de fazer isso, as dependências do módulo são cuidadosamente controlado (ver secção seguinte), com cada exportação de um conjunto de símbolos escolhidos com cuidado quando se utiliza `importação *`. Em geral, para computação interativa, jogar apenas em torno dos módulos principais eo loop treinamento que você pode fazer\n",
            "\n",
            "```\n",
            "de fastai.basics importar *\n",
            "```\n",
            "\n",
            "Se você quiser experimentar um dos aplicativos * * tais como visão, então você pode fazer\n",
            "\n",
            "```\n",
            "de fastai.vision import *\n",
            "```\n",
            "Isso lhe dará todos os módulos padrão externos que você precisa, em seus namespaces habituais (por exemplo `pandas como pd`,` numpy como np`, `matplotlib.pyplot como plt`), além do núcleo bibliotecas fastai. Além disso, as principais classes e funções para a sua aplicação ([ `fastai.vision`] (/ vision.html # visão), neste caso), por exemplo, a criação de um [ `DataBunch`] (/ basic_data.html # DataBunch) a partir de uma pasta de imagens e treinamento de uma rede neural convolutional (com [` cnn_learner`] (/ vision.learner.html # cnn_learner)), também são importados. Se você não deseja importar qualquer aplicação, mas quero que todos a principal funcionalidade do fastai, use `de fastai.basics importar *`. Claro, você também pode simplesmente importar os símbolos específicos que você precisa, sem o uso de `import *`.\n",
            "\n",
            "Se você deseja ver onde um símbolo é importado do, ou apenas digite o nome do símbolo (em um REPL como Jupyter Notebook ou IPython), ou (na maioria dos editores) Onda o mouse sobre o símbolo para ver a definição. Por exemplo:\n",
            "Learner\n",
            "Dependências ###\n",
            "Na base de tudo são os dois módulos [ `core`] (/ core.html # núcleo) e [` torch_core`] (/ torch_core.html # torch_core) (não estamos incluindo o `prefixo fastai.` quando nomeando módulos nestes documentos). Eles definem as funções básicas que usamos na biblioteca; [ `Core`] (/ # núcleo core.html) só se baseia em módulos gerais, ao passo que [` torch_core`] (/ torch_core.html # torch_core) requer pytorch. A maioria dos atalhos-insinuando tipo são definidas lá também (pelo menos aquele que não dependem de aulas fastai definidos mais tarde). Quase todos os módulos abaixo importação [ `torch_core`] (/ torch_core.html # torch_core).\n",
            "\n",
            "Então, há três módulos directamente no topo de [ `torch_core`] (/ torch_core.html # torch_core):\n",
            "- [ `basic_data`] (/ basic_data.html # basic_data), que contém a classe que vai levar um [` Dataset`] (https://pytorch.org/docs/stable/data.html#torch.utils.data .Dataset) ou pytorch [ `DataLoader`] (https://pytorch.org/docs/stable/data.html#torch.utils.data.DataLoader) a envolvê-la em um [` DeviceDataLoader`] (/ basic_data.html #DeviceDataLoader) (uma classe que fica no topo de uma [ `DataLoader`] (https://pytorch.org/docs/stable/data.html#torch.utils.data.DataLoader) e é responsável por colocar os dados sobre o dispositivo para a direita, assim como aplicação de transformações, tal como a normalização) e, em seguida, em reagrupar um [ `DataBunch`] (/ basic_data.html # DataBunch).\n",
            "- [ `layers`] (/ # layers.html camadas), o qual contém funções básicas para definir camadas de mercadorias ou grupos de camadas\n",
            "- [ `metrics`] (/ metrics.html # métricas), que contém todas as métricas\n",
            "\n",
            "Este cuida dos princípios básicos, então se reagrupar um modelo com alguns dados em um (/ basic_train.html # Learner) objeto [Learner` `] para cuidar de treinamento. Mais especificamente:\n",
            "- [ `callback`] (/ # callback.html chamada de retorno) (depende [` basic_data`] (/ basic_data.html # basic_data)) define a base de chamadas de retorno e a [ `CallbackHandler`] (/ callback.html # CallbackHandler ). Essas são funções que serão chamadas a cada passo do caminho do circuito de formação e pode nos permitem personalizar o que está acontecendo lá;\n",
            "- [ `basic_train`] (/ basic_train.html # basic_train) (depende [` callback`] (/ callback.html # rechamada)) define [ `Learner`] (/ basic_train.html # Learner) e [` gravador` ] (/ basic_train.html # Recorder) (que é uma chamada de retorno que grava estatísticas de formação) e tem o circuito de formação;\n",
            "- [ `callbacks`] (/ callbacks.html # chamadas de retorno) (depende [` basic_train`] (/ basic_train.html # basic_train)) é um sub-módulo que define várias chamadas de retorno, tais como por formação de precisão misto ou recozimento 1 ciclo;\n",
            "- [ `combóio] (/ train.html # train) (depende [` callbacks`] (/ callbacks.html # retornos de chamada)) define funções auxiliares para invocar as chamadas de retorno mais facilmente.\n",
            "\n",
            "De [ `basic_data`] (/ basic_data.html # basic_data) podemos dividir em um dos quatro principais aplicações * *, que cada um tem seu próprio módulo: [` vision`] (/ vision.html # visão), [ ` text`] (/ # text.html texto) [ `collab`] (/ collab.html # colab), ou [` tabular`] (tabular.html # tabular /). Cada um desses sub-módulos é construído da mesma forma com:\n",
            "- um sub-módulo chamado <code> transformar </ code> que lida com as transformações dos nossos dados (aumento de dados para a visão de computador, numericalizing e tokenizing para texto e pré-processamento para tabular)\n",
            "- um sub-módulo chamado <code> dados </ code> que contém a classe que irá criar conjuntos de dados específicos para esta aplicação e as funções auxiliares para criar [ `DataBunch`] objetos (/ basic_data.html # DataBunch).\n",
            "- um sub-módulo chamado <code> modelos </ code> que contém os modelos específicos para esta aplicação.\n",
            "- opcionalmente, um sub-módulo chamado <code> {aplicação} .learner </ code> que conterá [ `Learner`] (/ basic_train.html # Learner) específico para a aplicação.\n",
            "\n",
            "Aqui está um gráfico das dependências principais do módulo:\n",
            "! [Visão geral Modules] (imgs / dependencies.svg)\n"
          ],
          "name": "stdout"
        }
      ]
    },
    {
      "cell_type": "code",
      "metadata": {
        "id": "cXcKF0Sqim4t",
        "colab_type": "code",
        "colab": {
          "base_uri": "https://localhost:8080/",
          "height": 309
        },
        "outputId": "e723ded9-3462-48b1-fba2-d52d1c7fcb3c"
      },
      "source": [
        "!pip install easycolab\n",
        "import easycolab as ec\n",
        "ec.mount()\n"
      ],
      "execution_count": 64,
      "outputs": [
        {
          "output_type": "stream",
          "text": [
            "Collecting easycolab\n",
            "  Downloading https://files.pythonhosted.org/packages/7a/ff/017693c8f12c9b586d2bc9965ebed05b8aa1d2ba0ec9f1d88df9f0a70542/easycolab-0.1b29.tar.gz\n",
            "Building wheels for collected packages: easycolab\n",
            "  Building wheel for easycolab (setup.py) ... \u001b[?25l\u001b[?25hdone\n",
            "  Created wheel for easycolab: filename=easycolab-0.1b29-cp36-none-any.whl size=4471 sha256=92992a3d0b36e81e01c97d4bae4c2c0e13b7ea14aca3a3f31dd352ff58f06b70\n",
            "  Stored in directory: /root/.cache/pip/wheels/1b/c3/03/9d9371c4d3a117eff9caf88148e2f18ddf556543b4475055f1\n",
            "Successfully built easycolab\n",
            "Installing collected packages: easycolab\n",
            "Successfully installed easycolab-0.1b29\n",
            "Go to this URL in a browser: https://accounts.google.com/o/oauth2/auth?client_id=947318989803-6bn6qk8qdgf4n4g3pfee6491hc0brc4i.apps.googleusercontent.com&redirect_uri=urn%3Aietf%3Awg%3Aoauth%3A2.0%3Aoob&scope=email%20https%3A%2F%2Fwww.googleapis.com%2Fauth%2Fdocs.test%20https%3A%2F%2Fwww.googleapis.com%2Fauth%2Fdrive%20https%3A%2F%2Fwww.googleapis.com%2Fauth%2Fdrive.photos.readonly%20https%3A%2F%2Fwww.googleapis.com%2Fauth%2Fpeopleapi.readonly&response_type=code\n",
            "\n",
            "Enter your authorization code:\n",
            "··········\n",
            "Mounted at /content/gdrive\n",
            "Opening directory /content/gdrive/My Drive/\n",
            "Done!\n"
          ],
          "name": "stdout"
        }
      ]
    },
    {
      "cell_type": "code",
      "metadata": {
        "id": "PM7VzXqHnxNf",
        "colab_type": "code",
        "colab": {
          "base_uri": "https://localhost:8080/",
          "height": 34
        },
        "outputId": "ecd1e108-a64f-42c3-a97c-4d7b5c9c0af3"
      },
      "source": [
        "cd _FASTAI"
      ],
      "execution_count": 68,
      "outputs": [
        {
          "output_type": "stream",
          "text": [
            "/content/gdrive/My Drive/_FASTAI\n"
          ],
          "name": "stdout"
        }
      ]
    },
    {
      "cell_type": "code",
      "metadata": {
        "id": "2mpWRJdXpEwA",
        "colab_type": "code",
        "colab": {
          "base_uri": "https://localhost:8080/",
          "height": 34
        },
        "outputId": "5a197930-e22c-4741-8839-67130b3fd9d9"
      },
      "source": [
        "open('index_ptbr.ipynb','w').write(json.dumps(data_translated))"
      ],
      "execution_count": 112,
      "outputs": [
        {
          "output_type": "execute_result",
          "data": {
            "text/plain": [
              "15830"
            ]
          },
          "metadata": {
            "tags": []
          },
          "execution_count": 112
        }
      ]
    },
    {
      "cell_type": "code",
      "metadata": {
        "id": "PAgnHe9ipGjk",
        "colab_type": "code",
        "colab": {}
      },
      "source": [
        "for cell in data_translated: \n",
        "    module += ''.join(cell) + '\\n'"
      ],
      "execution_count": 0,
      "outputs": []
    },
    {
      "cell_type": "code",
      "metadata": {
        "id": "z-Yf5sO4xgE4",
        "colab_type": "code",
        "colab": {}
      },
      "source": [
        "from googletrans import Translator\n",
        "\n",
        "def translate_markdown(text, dest_language='pt'):\n",
        "    # Markdown tags\n",
        "    END_LINE='\\n'\n",
        "    IMG_PREFIX='!['\n",
        "    HEADERS=['### ', '###', '## ', '##', '# ', '#'] # Should be from this order (bigger to smaller)\n",
        "\n",
        "    # Create an instance of Tranlator\n",
        "    translator = Translator()\n",
        "\n",
        "    # Inner function for translation\n",
        "    def translate(text):\n",
        "        return translator.translate(text, dest=dest_language).text\n",
        "\n",
        "    # Check if there are special Markdown tags\n",
        "    # TODO: Implent `code tag` and [link tag]() checker\n",
        "    if len(text)>=2:\n",
        "        if text[-1:]==END_LINE:\n",
        "            return translate(text)+'\\n'\n",
        "\n",
        "        if text[:2]==IMG_PREFIX:\n",
        "            return text\n",
        "\n",
        "        for header in HEADERS:\n",
        "            len_header=len(header)\n",
        "            if text[:len_header]==header:\n",
        "                return header + translate(text[len_header:])\n",
        "        \n",
        "    return translate(text)"
      ],
      "execution_count": 0,
      "outputs": []
    },
    {
      "cell_type": "code",
      "metadata": {
        "id": "gik-UTCZ1uWx",
        "colab_type": "code",
        "colab": {
          "base_uri": "https://localhost:8080/",
          "height": 102
        },
        "outputId": "ea2b18ca-55b7-496e-88ba-3ec76f7ea5d0"
      },
      "source": [
        "def test_translate_markdown():\n",
        "    texts = ['### Hello',  '# Hello', '![img_name](img.png)', '## Hello', '##Hey you']\n",
        "\n",
        "    for t in texts:\n",
        "        print(translate_markdown(t))\n",
        "\n",
        "test_translate_markdown()"
      ],
      "execution_count": 140,
      "outputs": [
        {
          "output_type": "stream",
          "text": [
            "### Olá\n",
            "# Olá\n",
            "![img_name](img.png)\n",
            "## Olá\n",
            "##ei você\n"
          ],
          "name": "stdout"
        }
      ]
    },
    {
      "cell_type": "code",
      "metadata": {
        "id": "kQ1-cTtWwC3H",
        "colab_type": "code",
        "colab": {
          "base_uri": "https://localhost:8080/",
          "height": 1000
        },
        "outputId": "0d6a918d-dde3-4a86-e9c7-232753e10ccf"
      },
      "source": [
        "#!wget https://raw.githubusercontent.com/WittmannF/fastai/master/docs_src/index.ipynb\n",
        "#data = json.load(open('index.ipynb', 'r'))\n",
        "data_translated = json.load(open('index.ipynb', 'r'))\n",
        "\n",
        "for i in range(len(data_translated['cells'])):\n",
        "    for j in range(len(data_translated['cells'][i]['source'])):\n",
        "        if data_translated['cells'][i]['cell_type']=='markdown':\n",
        "            data_translated['cells'][i]['source'][j] = translate_markdown(data_translated['cells'][i]['source'][j])\n",
        "        print(data_translated['cells'][i]['source'][j])\n",
        "\n",
        "open('index_ptbr_4.ipynb','w').write(json.dumps(data_translated))"
      ],
      "execution_count": 141,
      "outputs": [
        {
          "output_type": "stream",
          "text": [
            "# Bem-vindo ao fastai\n",
            "from fastai.vision import *\n",
            "\n",
            "from fastai.gen_doc.nbdoc import *\n",
            "\n",
            "from fastai.core import *\n",
            "\n",
            "from fastai.basic_train import *\n",
            "A biblioteca fastai simplifica o treinamento de redes neurais rápidos e precisos utilizando as melhores práticas modernas. É baseado em pesquisa para profundas melhores práticas de aprendizagem empreendidas a [fast.ai] (http://www.fast.ai), incluindo \"fora da caixa\" suporte para [ `vision`] (/ vision.html # visão ), [ `text`] (/ # text.html texto), [` tabular`] (/ tabular.html # tabular), e [ `collab`] (collab.html # modelos colab /) (filtragem colaborativa). Se você está procurando o código fonte, de cabeça para o [repo fastai] (https://github.com/fastai/fastai) no GitHub. Por breves exemplos, ver a pasta [Exemplos] (https://github.com/fastai/fastai/tree/master/examples); exemplos detalhados são fornecidos na documentação completa (veja o quadro). Por exemplo, aqui está como treinar um modelo MNIST usando [resnet18] (https://arxiv.org/abs/1512.03385) (a partir do [exemplo de visão] (https://github.com/fastai/fastai/blob/master /examples/vision.ipynb)):\n",
            "path = untar_data(URLs.MNIST_SAMPLE)\n",
            "\n",
            "data = ImageDataBunch.from_folder(path)\n",
            "\n",
            "learn = cnn_learner(data, models.resnet18, metrics=accuracy)\n",
            "\n",
            "learn.fit(1)\n",
            "jekyll_note(\"\"\"This documentation is all built from notebooks;\n",
            "\n",
            "that means that you can try any of the code you see in any notebook yourself!\n",
            "\n",
            "You'll find the notebooks in the <a href=\"https://github.com/fastai/fastai/tree/master/docs_src\">docs_src</a> folder of the\n",
            "\n",
            "<a href=\"https://github.com/fastai/fastai\">fastai</a> repo. For instance,\n",
            "\n",
            "<a href=\"https://nbviewer.jupyter.org/github/fastai/fastai/blob/master/docs_src/index.ipynb\">here</a>\n",
            "\n",
            "is the notebook source of what you're reading now.\"\"\")\n",
            "## Instalação e atualização\n",
            "Para instalar ou atualizar fastai, recomendamos `conda`:\n",
            "\n",
            "\n",
            "```\n",
            "\n",
            "Conda instalar -c -c pytorch fastai fastai\n",
            "\n",
            "```\n",
            "\n",
            "Para solução de problemas e instalações alternativas (incluindo pip e opções apenas de CPU) veja o [fastai readme] (https://github.com/fastai/fastai/blob/master/README.md).\n",
            "## Lendo os docs\n",
            "Para começar rapidamente, clique * Aplicações * na barra lateral, e em seguida, escolha o aplicativo que você está interessado. Isso vai levá-lo para um passeio através de treinamento de um modelo desse tipo. Você pode então explorar as várias ligações a partir de lá, ou mergulhar mais profundamente os vários módulos fastai.\n",
            "\n",
            "\n",
            "Nós fornecemos abaixo um breve resumo dos principais módulos nesta biblioteca. Para detalhes sobre cada uma, use a barra lateral para encontrar o módulo que você está interessado. Cada módulo inclui uma visão geral e exemplo de como usá-lo, juntamente com a documentação para cada classe, função e método. documentação da API parece, por exemplo, como este:\n",
            "\n",
            "\n",
            "### Um exemplo de função\n",
            "show_doc(rotate, full_name='rotate')\n",
            "---\n",
            "\n",
            "\n",
            "Tipos para cada parâmetro, e o tipo de retorno, são exibidos seguinte Python padrão [tipo de sintaxe dica] (https://www.python.org/dev/peps/pep-0484/). Às vezes, para os tipos de compostos que usamos [variáveis ​​do tipo] (/ fastai_typing.html). Tipos que são definidos por fastai ou link Pytorch diretamente para obter mais informações sobre esse tipo; experimente clicar * Imagem * na função acima para um exemplo. O docstring para o símbolo é mostrado imediatamente após a assinatura, juntamente com um link para o código-fonte para o símbolo no GitHub. Após a assinatura básica e DocString você encontrará exemplos e detalhes adicionais (não mostrados neste exemplo). Como você verá no topo da página, todos os símbolos documentados como esta também aparecem na tabela de conteúdos.\n",
            "\n",
            "\n",
            "Por classes herdadas e alguns tipos de função decorado, a classe ou tipo de base decorador também será mostrado no fim da assinatura, delimitado por `` ::. Para `vision.transforms`, o gerador de números aleatórios utilizados para o aumento de dados é mostrado em vez do tipo, para os parâmetros gerados aleatoriamente.\n",
            "## estrutura de módulo\n",
            "### importações\n",
            "fastai é projetado para suportar tanto computação interativa, bem como o desenvolvimento de software tradicional. Para computação interativa, onde a conveniência e velocidade de experimentação é uma prioridade, os cientistas de dados muitas vezes preferem pegar todos os símbolos que eles precisam, com `import *`. Portanto, fastai foi concebido para apoiar esta abordagem, sem comprometer a capacidade de manutenção e compreensão.\n",
            "\n",
            "\n",
            "A fim de fazer isso, as dependências do módulo são cuidadosamente controlado (ver secção seguinte), com cada exportação de um conjunto de símbolos escolhidos com cuidado quando se utiliza `importação *`. Em geral, para computação interativa, jogar apenas em torno dos módulos principais eo loop treinamento que você pode fazer\n",
            "\n",
            "\n",
            "```\n",
            "\n",
            "de fastai.basics importar *\n",
            "\n",
            "```\n",
            "\n",
            "\n",
            "Se você quiser experimentar um dos aplicativos * * tais como visão, então você pode fazer\n",
            "\n",
            "\n",
            "```\n",
            "\n",
            "de fastai.vision import *\n",
            "\n",
            "```\n",
            "Isso lhe dará todos os módulos padrão externos que você precisa, em seus namespaces habituais (por exemplo `pandas como pd`,` numpy como np`, `matplotlib.pyplot como plt`), além do núcleo bibliotecas fastai. Além disso, as principais classes e funções para a sua aplicação ([ `fastai.vision`] (/ vision.html # visão), neste caso), por exemplo, a criação de um [ `DataBunch`] (/ basic_data.html # DataBunch) a partir de uma pasta de imagens e treinamento de uma rede neural convolutional (com [` cnn_learner`] (/ vision.learner.html # cnn_learner)), também são importados. Se você não deseja importar qualquer aplicação, mas quero que todos a principal funcionalidade do fastai, use `de fastai.basics importar *`. Claro, você também pode simplesmente importar os símbolos específicos que você precisa, sem o uso de `import *`.\n",
            "\n",
            "\n",
            "Se você deseja ver onde um símbolo é importado do, ou apenas digite o nome do símbolo (em um REPL como Jupyter Notebook ou IPython), ou (na maioria dos editores) Onda o mouse sobre o símbolo para ver a definição. Por exemplo:\n",
            "Learner\n",
            "### dependências\n",
            "Na base de tudo são os dois módulos [ `core`] (/ core.html # núcleo) e [` torch_core`] (/ torch_core.html # torch_core) (não estamos incluindo o `prefixo fastai.` quando nomeando módulos nestes documentos). Eles definem as funções básicas que usamos na biblioteca; [ `Core`] (/ # núcleo core.html) só se baseia em módulos gerais, ao passo que [` torch_core`] (/ torch_core.html # torch_core) requer pytorch. A maioria dos atalhos-insinuando tipo são definidas lá também (pelo menos aquele que não dependem de aulas fastai definidos mais tarde). Quase todos os módulos abaixo importação [ `torch_core`] (/ torch_core.html # torch_core).\n",
            "\n",
            "\n",
            "Então, há três módulos directamente no topo de [ `torch_core`] (/ torch_core.html # torch_core):\n",
            "\n",
            "- [ `basic_data`] (/ basic_data.html # basic_data), que contém a classe que vai levar um [` Dataset`] (https://pytorch.org/docs/stable/data.html#torch.utils.data .Dataset) ou pytorch [ `DataLoader`] (https://pytorch.org/docs/stable/data.html#torch.utils.data.DataLoader) a envolvê-la em um [` DeviceDataLoader`] (/ basic_data.html #DeviceDataLoader) (uma classe que fica no topo de uma [ `DataLoader`] (https://pytorch.org/docs/stable/data.html#torch.utils.data.DataLoader) e é responsável por colocar os dados sobre o dispositivo para a direita, assim como aplicação de transformações, tal como a normalização) e, em seguida, em reagrupar um [ `DataBunch`] (/ basic_data.html # DataBunch).\n",
            "\n",
            "- [ `layers`] (/ # layers.html camadas), o qual contém funções básicas para definir camadas de mercadorias ou grupos de camadas\n",
            "\n",
            "- [ `metrics`] (/ metrics.html # métricas), que contém todas as métricas\n",
            "\n",
            "\n",
            "Este cuida dos princípios básicos, então se reagrupar um modelo com alguns dados em um (/ basic_train.html # Learner) objeto [Learner` `] para cuidar de treinamento. Mais especificamente:\n",
            "\n",
            "- [ `callback`] (/ # callback.html chamada de retorno) (depende [` basic_data`] (/ basic_data.html # basic_data)) define a base de chamadas de retorno e a [ `CallbackHandler`] (/ callback.html # CallbackHandler ). Essas são funções que serão chamadas a cada passo do caminho do circuito de formação e pode nos permitem personalizar o que está acontecendo lá;\n",
            "\n",
            "- [ `basic_train`] (/ basic_train.html # basic_train) (depende [` callback`] (/ callback.html # rechamada)) define [ `Learner`] (/ basic_train.html # Learner) e [` gravador` ] (/ basic_train.html # Recorder) (que é uma chamada de retorno que grava estatísticas de formação) e tem o circuito de formação;\n",
            "\n",
            "- [ `callbacks`] (/ callbacks.html # chamadas de retorno) (depende [` basic_train`] (/ basic_train.html # basic_train)) é um sub-módulo que define várias chamadas de retorno, tais como por formação de precisão misto ou recozimento 1 ciclo;\n",
            "\n",
            "- [ `combóio] (/ train.html # train) (depende [` callbacks`] (/ callbacks.html # retornos de chamada)) define funções auxiliares para invocar as chamadas de retorno mais facilmente.\n",
            "\n",
            "\n",
            "De [ `basic_data`] (/ basic_data.html # basic_data) podemos dividir em um dos quatro principais aplicações * *, que cada um tem seu próprio módulo: [` vision`] (/ vision.html # visão), [ ` text`] (/ # text.html texto) [ `collab`] (/ collab.html # colab), ou [` tabular`] (tabular.html # tabular /). Cada um desses sub-módulos é construído da mesma forma com:\n",
            "\n",
            "- um sub-módulo chamado <code> transformar </ code> que lida com as transformações dos nossos dados (aumento de dados para a visão de computador, numericalizing e tokenizing para texto e pré-processamento para tabular)\n",
            "\n",
            "- um sub-módulo chamado <code> dados </ code> que contém a classe que irá criar conjuntos de dados específicos para esta aplicação e as funções auxiliares para criar [ `DataBunch`] objetos (/ basic_data.html # DataBunch).\n",
            "\n",
            "- um sub-módulo chamado <code> modelos </ code> que contém os modelos específicos para esta aplicação.\n",
            "\n",
            "- opcionalmente, um sub-módulo chamado <code> {aplicação} .learner </ code> que conterá [ `Learner`] (/ basic_train.html # Learner) específico para a aplicação.\n",
            "\n",
            "\n",
            "Aqui está um gráfico das dependências principais do módulo:\n",
            "![Modules overview](imgs/dependencies.svg)\n"
          ],
          "name": "stdout"
        },
        {
          "output_type": "execute_result",
          "data": {
            "text/plain": [
              "15885"
            ]
          },
          "metadata": {
            "tags": []
          },
          "execution_count": 141
        }
      ]
    },
    {
      "cell_type": "code",
      "metadata": {
        "id": "RnIIEkQXxEGB",
        "colab_type": "code",
        "colab": {
          "base_uri": "https://localhost:8080/",
          "height": 34
        },
        "outputId": "9e420f52-21b8-48b9-c4ce-0cd70fe8fa7c"
      },
      "source": [
        "data['cells'][-1]['source'][0][:2]"
      ],
      "execution_count": 127,
      "outputs": [
        {
          "output_type": "execute_result",
          "data": {
            "text/plain": [
              "'!['"
            ]
          },
          "metadata": {
            "tags": []
          },
          "execution_count": 127
        }
      ]
    },
    {
      "cell_type": "code",
      "metadata": {
        "id": "N-_ubkqzxFYt",
        "colab_type": "code",
        "colab": {}
      },
      "source": [
        ""
      ],
      "execution_count": 0,
      "outputs": []
    }
  ]
}